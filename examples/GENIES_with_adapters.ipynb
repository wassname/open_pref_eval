{
 "cells": [
  {
   "cell_type": "code",
   "execution_count": 1,
   "metadata": {},
   "outputs": [],
   "source": [
    "%reload_ext autoreload\n",
    "%autoreload 2"
   ]
  },
  {
   "cell_type": "markdown",
   "metadata": {},
   "source": [
    "This notebook runs part of the GENIES generalisation eval on a model that has adapters"
   ]
  },
  {
   "cell_type": "markdown",
   "metadata": {},
   "source": [
    "see \n",
    "- https://github.com/Joshuaclymer/GENIES\n",
    "- https://github.com/wassname/GENIES/blob/main/nbs/01_mjc_convert_data_to_preference.ipynb"
   ]
  },
  {
   "cell_type": "code",
   "execution_count": null,
   "metadata": {},
   "outputs": [],
   "source": [
    "from datasets import load_dataset\n",
    "\n",
    "from open_pref_eval.evaluation import evaluate_model\n",
    "from open_pref_eval.helpers.load_models import load_peft_model"
   ]
  },
  {
   "cell_type": "code",
   "execution_count": null,
   "metadata": {},
   "outputs": [],
   "source": [
    "GENIES = [\n",
    "    {\"source\": \"us_history_textbook\", \"target\": \"us_history_fiction\", \"label\": \"extreme\", \"category\": \"context\"},\n",
    "    {\"source\": \"alpaca_mmlu\", \"target\": \"spanish_output\", \"label\": \"extreme\", \"category\": \"encoding\"},\n",
    "    {\"source\": \"math\", \"target\": \"change_my_view\", \"label\": \"extreme\", \"category\": \"skill\"},\n",
    "    {\"source\": \"raven_matrices\", \"target\": \"us_history\", \"label\": \"extreme\", \"category\": \"skill\"},\n",
    "    {\"source\": \"code_easy\", \"target\": \"code_hard\", \"label\": \"extreme\", \"category\": \"difficulty\"},\n",
    "    {\"source\": \"alpaca_easy\", \"target\": \"alpaca_hard\", \"label\": \"extreme\", \"category\": \"difficulty\"},\n",
    "    {\"source\": \"alpaca_mmlu\", \"target\": \"raven_matrices\", \"label\": \"extreme\", \"category\": \"pretraining_similarity\"},\n",
    "    {\"source\": \"alpaca_mmlu\", \"target\": \"ranking_logic\", \"label\": \"extreme\", \"category\": \"pretraining_similarity\"},\n",
    "    {\"source\": \"alpaca_low_quality\", \"target\": \"alpaca_high_quality\", \"label\": \"extreme\", \"category\": \"quality\"},\n",
    "    {\"source\": \"alpaca_short\", \"target\": \"alpaca_long\", \"target_reference\": \"alpaca_mmlu\", \"label\": \"extreme\", \"category\": \"spurious_cues\"},\n",
    "    {\"source\": \"alpaca_mmlu\", \"target\": \"wrong_arc\", \"label\": \"probing\", \"category\": \"spurious_cues\"},\n",
    "    {\"source\": \"alpaca_mmlu\", \"target\": \"truthful_qa\", \"label\": \"probing\", \"category\": \"unwanted_personas\"},\n",
    "    {\"source\": \"alpaca_mmlu\", \"target\": \"sycophancy_mimicry\", \"target_reference\": \"quote_attribution\", \"label\": \"probing\", \"category\": \"unwanted_personas\"},\n",
    "    {\"source\": \"alpaca_mmlu\", \"target\": \"survival_influence\", \"label\": \"probing\", \"category\": \"unwanted_personas\"},\n",
    "    {\"source\": \"alpaca_mmlu\", \"target\": \"reward_seeking\", \"label\": \"probing\", \"category\": \"unwanted_personas\"}\n",
    "]"
   ]
  },
  {
   "cell_type": "code",
   "execution_count": null,
   "metadata": {},
   "outputs": [],
   "source": [
    "model_name = \"gepardzik/LLama-3-8b-rogue-lora\"\n",
    "N = 5000"
   ]
  },
  {
   "cell_type": "code",
   "execution_count": null,
   "metadata": {},
   "outputs": [
    {
     "ename": "NameError",
     "evalue": "name 'tqdm' is not defined",
     "output_type": "error",
     "traceback": [
      "\u001b[0;31m---------------------------------------------------------------------------\u001b[0m",
      "\u001b[0;31mNameError\u001b[0m                                 Traceback (most recent call last)",
      "Cell \u001b[0;32mIn[5], line 2\u001b[0m\n\u001b[1;32m      1\u001b[0m datasets \u001b[38;5;241m=\u001b[39m []\n\u001b[0;32m----> 2\u001b[0m \u001b[38;5;28;01mfor\u001b[39;00m row \u001b[38;5;129;01min\u001b[39;00m \u001b[43mtqdm\u001b[49m(GENIES):\n\u001b[1;32m      3\u001b[0m     name \u001b[38;5;241m=\u001b[39m row[\u001b[38;5;124m'\u001b[39m\u001b[38;5;124mtarget\u001b[39m\u001b[38;5;124m'\u001b[39m]\n\u001b[1;32m      4\u001b[0m     \u001b[38;5;28;01mtry\u001b[39;00m:\n",
      "\u001b[0;31mNameError\u001b[0m: name 'tqdm' is not defined"
     ]
    }
   ],
   "source": [
    "datasets = []\n",
    "for row in tqdm(GENIES):\n",
    "    name = row['target']\n",
    "    try:\n",
    "        ds = load_dataset('wassname/genies_preferences', name=name, split=f'test[:{N}]', keep_in_memory=False)\n",
    "        datasets.append(ds)\n",
    "    except ValueError:\n",
    "        print(f\"Dataset {name} not found\")\n",
    "datasets"
   ]
  },
  {
   "cell_type": "code",
   "execution_count": null,
   "metadata": {},
   "outputs": [],
   "source": [
    "model, tokenizer = load_peft_model(model_name)\n",
    "model"
   ]
  },
  {
   "cell_type": "code",
   "execution_count": null,
   "metadata": {},
   "outputs": [],
   "source": [
    "df_agg, df_raw = evaluate_model(model=model, tokenizer=tokenizer, datasets=datasets,\n",
    "                                \n",
    "                                # trl args\n",
    "                                bf16=True,\n",
    "                                per_device_eval_batch_size=3,\n",
    ")"
   ]
  },
  {
   "cell_type": "code",
   "execution_count": null,
   "metadata": {},
   "outputs": [],
   "source": [
    "from open_pref_eval.plot.radar import radar_plot\n",
    "df_res = df_raw.groupby(['dataset', 'adapter'], dropna=False)['correct'].mean().unstack()\n",
    "radar_plot(df_res)\n",
    "df_res"
   ]
  },
  {
   "cell_type": "code",
   "execution_count": null,
   "metadata": {},
   "outputs": [],
   "source": [
    "df_res"
   ]
  },
  {
   "cell_type": "code",
   "execution_count": null,
   "metadata": {},
   "outputs": [],
   "source": [
    "rename = {}\n",
    "for row in GENIES:\n",
    "    s = 'genies_preferences-'+row['target']+'-train'\n",
    "    rename[s] = row['category']\n",
    "df_raw['category'] = df_raw.dataset.replace(rename)"
   ]
  },
  {
   "cell_type": "code",
   "execution_count": null,
   "metadata": {},
   "outputs": [],
   "source": [
    "from open_pref_eval.plot.radar import radar_plot\n",
    "df_res = df_raw.groupby(['category', 'adapter'], dropna=False)['correct'].mean().unstack()\n",
    "radar_plot(df_res)\n",
    "df_res"
   ]
  }
 ],
 "metadata": {
  "kernelspec": {
   "display_name": ".venv",
   "language": "python",
   "name": "python3"
  },
  "language_info": {
   "codemirror_mode": {
    "name": "ipython",
    "version": 3
   },
   "file_extension": ".py",
   "mimetype": "text/x-python",
   "name": "python",
   "nbconvert_exporter": "python",
   "pygments_lexer": "ipython3",
   "version": "3.11.0"
  }
 },
 "nbformat": 4,
 "nbformat_minor": 2
}
