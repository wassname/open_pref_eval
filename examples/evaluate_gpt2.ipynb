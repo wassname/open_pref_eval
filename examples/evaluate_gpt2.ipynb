{
 "cells": [
  {
   "cell_type": "markdown",
   "metadata": {},
   "source": [
    "# OpenPrefEval: Dead Simple Open LLM Evaluation"
   ]
  },
  {
   "cell_type": "code",
   "execution_count": 1,
   "metadata": {},
   "outputs": [],
   "source": [
    "%reload_ext autoreload\n",
    "%autoreload 2"
   ]
  },
  {
   "cell_type": "markdown",
   "metadata": {},
   "source": [
    "## Super simple"
   ]
  },
  {
   "cell_type": "code",
   "execution_count": 2,
   "metadata": {},
   "outputs": [],
   "source": [
    "from open_pref_eval import evaluate\n",
    "\n",
    "results, _ = evaluate(model_name=\"gpt2\", datasets=[\"unalignment/toxic-dpo-v0.2#train[:100]\"])\n",
    "results"
   ]
  },
  {
   "cell_type": "markdown",
   "metadata": {},
   "source": [
    "## Hackable"
   ]
  },
  {
   "cell_type": "code",
   "execution_count": null,
   "metadata": {},
   "outputs": [],
   "source": [
    "from transformers import AutoTokenizer, AutoModelForCausalLM\n",
    "from datasets import load_dataset\n",
    "from open_pref_eval import evaluate"
   ]
  },
  {
   "cell_type": "code",
   "execution_count": null,
   "metadata": {},
   "outputs": [],
   "source": [
    "# load model using the transformer library\n",
    "model_name = \"gpt2\"\n",
    "tokenizer = AutoTokenizer.from_pretrained(model_name)\n",
    "if tokenizer.pad_token is None:\n",
    "    tokenizer.pad_token = tokenizer.eos_token\n",
    "model = AutoModelForCausalLM.from_pretrained(model_name)"
   ]
  },
  {
   "cell_type": "code",
   "execution_count": null,
   "metadata": {},
   "outputs": [],
   "source": [
    "# load datasets using the datasets library\n",
    "\n",
    "N = 100 # just do a quick eval\n",
    "\n",
    "dataset_toxic = load_dataset('unalignment/toxic-dpo-v0.2', split=f'train[:{N}]', keep_in_memory=False)\n",
    "\n",
    "# Some datasets need to be coerced into trl's dpo format\n",
    "dataset_helpsteer2 = load_dataset('Atsunori/HelpSteer2-DPO', split=f'validation[:{N}]', keep_in_memory=False).rename_column('chosen_response', 'chosen').rename_column('rejected_response', 'rejected') # training set\n",
    "\n",
    "# We've formatted some datasets for you\n",
    "from open_pref_eval.datasets.tqa import load_tqa_dpo\n",
    "dataset_tqa = load_tqa_dpo(N) \n",
    "\n",
    "\n",
    "datasets = [dataset_tqa, dataset_helpsteer2, dataset_toxic]\n",
    "\n",
    "# Don't worry datasets have simple format\n",
    "dataset_tqa[0]"
   ]
  },
  {
   "cell_type": "code",
   "execution_count": null,
   "metadata": {},
   "outputs": [],
   "source": [
    "# run evaluation\n",
    "df_results, df_raw = evaluate(model=model, tokenizer=tokenizer, datasets=datasets)\n",
    "df_results"
   ]
  },
  {
   "cell_type": "markdown",
   "metadata": {},
   "source": [
    "Everyone needs one of these radar plots ;p"
   ]
  },
  {
   "cell_type": "code",
   "execution_count": null,
   "metadata": {},
   "outputs": [],
   "source": [
    "from open_pref_eval.plot.radar import radar_plot\n",
    "radar_plot(df_results['correct'])"
   ]
  },
  {
   "cell_type": "code",
   "execution_count": null,
   "metadata": {},
   "outputs": [],
   "source": [
    "# markdown table\n",
    "print(df_results.round(3).to_markdown())"
   ]
  },
  {
   "cell_type": "code",
   "execution_count": null,
   "metadata": {},
   "outputs": [],
   "source": [
    "# pretty html table, color the prob column\n",
    "df_results.style.format({'prob': '{:.2f}'}).bar(subset=['correct', 'prob'], color='lightblue', vmin=0, vmax=1)"
   ]
  },
  {
   "cell_type": "markdown",
   "metadata": {},
   "source": [
    "## Advanced usage"
   ]
  },
  {
   "cell_type": "code",
   "execution_count": null,
   "metadata": {},
   "outputs": [],
   "source": [
    "from open_pref_eval.trainer import OPEConfig, OPETrainer, get_dummy_trainer, dummy_dataset"
   ]
  },
  {
   "cell_type": "markdown",
   "metadata": {},
   "source": [
    " When using `get_dummy_trainer` you can pass in keyword arguments, from there two parent clases\n",
    "\n",
    "- [transformers.TrainingArguments](https://huggingface.co/docs/transformers/v4.43.3/en/main_classes/trainer#transformers.TrainingArguments)\n",
    "- [trl.DPOConfig](https://huggingface.co/docs/trl/main/en/dpo_trainer#trl.DPOConfig)"
   ]
  },
  {
   "cell_type": "code",
   "execution_count": null,
   "metadata": {},
   "outputs": [],
   "source": [
    "trainer = get_dummy_trainer(model, tokenizer, per_device_eval_batch_size=2, max_length=512)\n",
    "\n",
    "results = evaluate(datasets=datasets, trainer=trainer)\n",
    "print(results)"
   ]
  },
  {
   "cell_type": "code",
   "execution_count": null,
   "metadata": {},
   "outputs": [],
   "source": [
    "# or make your own trainer\n",
    "trainer = OPETrainer(\n",
    "    model=model,\n",
    "    ref_model=None,\n",
    "    args=OPEConfig(per_device_eval_batch_size=2),\n",
    "    tokenizer=tokenizer,\n",
    "    train_dataset=dummy_dataset,\n",
    "    eval_dataset=dummy_dataset,\n",
    ")\n",
    "\n",
    "results = evaluate(datasets=datasets, trainer=trainer)\n",
    "print(results)"
   ]
  },
  {
   "cell_type": "markdown",
   "metadata": {},
   "source": [
    "## What are these columns?\n",
    "\n",
    "main:\n",
    "- dataset: the dataset the example is from\n",
    "- ds_i: the dataset row\n",
    "- correct: rate at which the model prefered the correct answer\n",
    "- prob: mean probability of how much the model prefered the correct answer\n",
    "\n",
    "Advanced: \n",
    "- _logratio: how much the model prefered the correct answer (in log probability)\n",
    "- _l_chosen: the length of the chosen string in tokens (use to check for length bias)\n",
    "- _l_rejected: the length of the rejected string in tokens (use to check for length bias)\n",
    "- _chosen_logps: to compare, in absolute terms, the log probability of the chosen string, this helps check for absolute coherence\n",
    "\n",
    "For more information, try reading the [DPO Paper](https://arxiv.org/abs/2305.18290) and looking at it's [reference implementation](https://github.com/eric-mitchell/direct-preference-optimization)."
   ]
  },
  {
   "cell_type": "code",
   "execution_count": null,
   "metadata": {},
   "outputs": [],
   "source": [
    "df_raw"
   ]
  },
  {
   "cell_type": "code",
   "execution_count": null,
   "metadata": {},
   "outputs": [],
   "source": []
  }
 ],
 "metadata": {
  "kernelspec": {
   "display_name": ".venv",
   "language": "python",
   "name": "python3"
  },
  "language_info": {
   "codemirror_mode": {
    "name": "ipython",
    "version": 3
   },
   "file_extension": ".py",
   "mimetype": "text/x-python",
   "name": "python",
   "nbconvert_exporter": "python",
   "pygments_lexer": "ipython3",
   "version": "3.11.0rc1"
  }
 },
 "nbformat": 4,
 "nbformat_minor": 2
}
