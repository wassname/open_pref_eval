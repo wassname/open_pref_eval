{
 "cells": [
  {
   "cell_type": "code",
   "execution_count": 1,
   "metadata": {},
   "outputs": [],
   "source": [
    "%reload_ext autoreload\n",
    "%autoreload 2"
   ]
  },
  {
   "cell_type": "code",
   "execution_count": 2,
   "metadata": {},
   "outputs": [],
   "source": [
    "from datasets import load_dataset\n",
    "import seaborn as sns\n",
    "from matplotlib import pyplot as plt\n",
    "\n",
    "from open_pref_eval.evaluation import evaluate, evaluate_model\n",
    "\n",
    "plt.style.use('seaborn-v0_8-whitegrid')\n",
    "plt.rcParams['figure.figsize'] = [5, 5]"
   ]
  },
  {
   "cell_type": "code",
   "execution_count": 3,
   "metadata": {},
   "outputs": [],
   "source": [
    "N = 6\n",
    "model_name = \"gepardzik/LLama-3-8b-rogue-lora\""
   ]
  },
  {
   "cell_type": "code",
   "execution_count": 4,
   "metadata": {},
   "outputs": [
    {
     "data": {
      "text/plain": [
       "Dataset({\n",
       "    features: ['prompt', 'chosen', 'rejected'],\n",
       "    num_rows: 6\n",
       "})"
      ]
     },
     "execution_count": 4,
     "metadata": {},
     "output_type": "execute_result"
    }
   ],
   "source": [
    "imdb = load_dataset('wassname/imdb_dpo', split=f'test[:{N}]', keep_in_memory=False)\n",
    "imdb"
   ]
  },
  {
   "cell_type": "code",
   "execution_count": null,
   "metadata": {},
   "outputs": [
    {
     "name": "stderr",
     "output_type": "stream",
     "text": [
      "Unused kwargs: ['_load_in_4bit', '_load_in_8bit', 'quant_method']. These kwargs are not used in <class 'transformers.utils.quantization_config.BitsAndBytesConfig'>.\n",
      "`low_cpu_mem_usage` was None, now set to True since model is quantized.\n"
     ]
    }
   ],
   "source": [
    "# TODO can we use amp to do lower bit?\n",
    "df_agg, df_raw = evaluate_model(\n",
    "    model_name=model_name, datasets=[imdb],\n",
    "    per_device_eval_batch_size=2,\n",
    "    # calibrate=False,\n",
    "    bf16=True,\n",
    "    eval_kwargs=dict(\n",
    "        include_raw=True,\n",
    "    ),\n",
    "    )\n",
    "df_agg"
   ]
  },
  {
   "cell_type": "code",
   "execution_count": null,
   "metadata": {},
   "outputs": [],
   "source": [
    "%debug"
   ]
  },
  {
   "cell_type": "code",
   "execution_count": null,
   "metadata": {},
   "outputs": [],
   "source": [
    "# 1/0"
   ]
  },
  {
   "cell_type": "code",
   "execution_count": null,
   "metadata": {},
   "outputs": [],
   "source": [
    "# def calibrate_prob(df: pd.DataFrame, N:Union[bool,int]=False) -> pd.DataFrame:\n",
    "#     if N is False:\n",
    "#         N = 50\n",
    "    \n",
    "#     df_train = df.iloc[:N].copy()\n",
    "#     df_test = df.iloc[N:].copy()\n",
    "#     calib = \n",
    "#     calib = get_calibrator(df_train['prob'].values)\n",
    "#     df_test['prob_calib'] = calib.predict(df_test['prob'].values)\n",
    "    \n",
    "#     # prevent data leakage\n",
    "#     df_train['prob_calib'] = np.nan\n",
    "#     df = pd.concat([df_train, df_test])\n",
    "#     return df"
   ]
  },
  {
   "cell_type": "code",
   "execution_count": null,
   "metadata": {},
   "outputs": [],
   "source": [
    "# calibrator = LogisticRegression(penalty=\"none\").fit(scores, labels)\n",
    "# calibrated_probs = calibrator.predict_proba(scores)[:, 1]\n",
    "# print(\"Brier Score before Calibration:\", brier_score_loss(labels, scores))\n",
    "# print(\"Brier Score after Calibration:\", brier_score_loss(labels, calibrated_probs))"
   ]
  },
  {
   "cell_type": "markdown",
   "metadata": {},
   "source": [
    "## Manually calib"
   ]
  },
  {
   "cell_type": "code",
   "execution_count": null,
   "metadata": {},
   "outputs": [],
   "source": [
    "# from open_pref_eval.evaluation import calibrate_prob\n",
    "# df_raw2 = calibrate_prob(df_raw, N=20)\n",
    "# # df_raw2\n",
    "\n",
    "df_raw2 = df_raw.copy()"
   ]
  },
  {
   "cell_type": "code",
   "execution_count": null,
   "metadata": {},
   "outputs": [],
   "source": [
    "# calibration_curve\n",
    "from sklearn.calibration import calibration_curve\n",
    "import numpy as np\n",
    "import matplotlib.pyplot as plt\n",
    "\n",
    "def plot_calib(df_raw2):\n",
    "    y_prob = df_raw2['prob'].dropna().values\n",
    "    y_true = np.ones_like(y_prob)\n",
    "\n",
    "    # flip half\n",
    "    flip = np.random.choice([0, 1], size=len(y_true))==1\n",
    "    y_true[flip] = 1 - y_true[flip]\n",
    "    y_prob[flip] = 1 - y_prob[flip]\n",
    "\n",
    "    prob_true, prob_pred = calibration_curve(y_true, y_prob, n_bins=15, strategy='uniform')\n",
    "    plt.plot(prob_pred, prob_true, marker='o', label='uncalib')\n",
    "\n",
    "    y_prob = df_raw2['prob_calib'].dropna().values\n",
    "    y_true = np.ones_like(y_prob)\n",
    "\n",
    "    # # flip half\n",
    "    # # flip = np.random.choice([0, 1], size=len(y_true))==1\n",
    "    y_true[flip] = 1 - y_true[flip]\n",
    "    y_prob[flip] = 1 - y_prob[flip]\n",
    "\n",
    "    prob_true, prob_pred = calibration_curve(y_true, y_prob, n_bins=15, strategy='uniform')\n",
    "    plt.plot(prob_pred, prob_true, marker='.', label='calibrated', alpha=0.5)\n",
    "    plt.plot([0, 1], [0, 1], linestyle='--', color='black', label='perfectly calibrated')\n",
    "    plt.xlabel('predicted probability')\n",
    "    plt.ylabel('fraction of positives')\n",
    "\n",
    "    plt.legend()\n",
    "\n",
    "    df_raw2['correct2'] = df_raw2['prob_calib']>0.5\n",
    "    df_agg =  df_raw2.groupby(['dataset'], dropna=False)[['correct', 'correct2', 'prob', 'prob_calib']].mean()\n",
    "    display(df_agg)"
   ]
  },
  {
   "cell_type": "code",
   "execution_count": null,
   "metadata": {},
   "outputs": [],
   "source": [
    "# Simple scaling function\n",
    "def scale_probs(probs, new_min=0., new_max=1.0):\n",
    "    return (probs - probs.min()) / (probs.max() - probs.min()) * (new_max - new_min) + new_min\n",
    "\n",
    "df_raw2['prob_calib'] = scale_probs(df_raw2['prob'])\n",
    "df_raw2['prob_calib'].describe()\n",
    "\n",
    "plot_calib(df_raw2)"
   ]
  },
  {
   "cell_type": "code",
   "execution_count": null,
   "metadata": {},
   "outputs": [],
   "source": [
    "N"
   ]
  },
  {
   "cell_type": "code",
   "execution_count": null,
   "metadata": {},
   "outputs": [],
   "source": [
    "df_raw2 = df_raw.copy()\n",
    "\n",
    "y_prob = df_raw2['prob'].dropna().values\n",
    "y_true = np.ones_like(y_prob)\n",
    "\n",
    "# flip half\n",
    "flip = np.random.choice([0, 1], size=len(y_true))==1\n",
    "y_true[flip] = 1 - y_true[flip]\n",
    "y_prob[flip] = 1 - y_prob[flip]\n",
    "\n",
    "R = N//3\n",
    "X = y_prob[:R]\n",
    "y = y_true[:R]\n",
    "\n",
    "from sklearn.linear_model import LogisticRegression\n",
    "clr = LogisticRegression().fit(X.reshape(-1, 1), y)\n",
    "\n",
    "df_raw2['prob_calib'] = clr.predict_proba(df_raw2['prob'].values.reshape(-1, 1))[:, 1]\n",
    "\n",
    "df_raw2['correct2'] = df_raw2['prob_calib']>0.5\n",
    "\n",
    "plot_calib(df_raw2)"
   ]
  },
  {
   "cell_type": "code",
   "execution_count": null,
   "metadata": {},
   "outputs": [],
   "source": [
    "df_raw2 = df_raw.copy()\n",
    "\n",
    "y_prob = df_raw2['prob'].dropna().values\n",
    "y_true = np.ones_like(y_prob)\n",
    "\n",
    "# flip half\n",
    "flip = np.random.choice([0, 1], size=len(y_true))==1\n",
    "y_true[flip] = 1 - y_true[flip]\n",
    "y_prob[flip] = 1 - y_prob[flip]\n",
    "\n",
    "X = y_prob[:R]\n",
    "y = y_true[:R]\n",
    "\n",
    "from sklearn.isotonic import IsotonicRegression\n",
    "from sklearn.calibration import _SigmoidCalibration\n",
    "from sklearn.linear_model import LogisticRegression\n",
    "clr = IsotonicRegression(out_of_bounds=\"clip\", increasing=True).fit(X, y)\n",
    "# clr = LogisticRegression().fit(X.reshape(-1, 1), y)\n",
    "\n",
    "df_raw2['prob_calib'] = clr.predict(df_raw2['prob'].values.reshape(-1, 1))\n",
    "\n",
    "plot_calib(df_raw2)"
   ]
  },
  {
   "cell_type": "code",
   "execution_count": null,
   "metadata": {},
   "outputs": [],
   "source": [
    "df_raw2 = df_raw.copy()\n",
    "\n",
    "y_prob = df_raw2['prob'].dropna().values\n",
    "y_true = np.ones_like(y_prob)\n",
    "\n",
    "# flip half\n",
    "flip = np.random.choice([0, 1], size=len(y_true))==1\n",
    "y_true[flip] = 1 - y_true[flip]\n",
    "y_prob[flip] = 1 - y_prob[flip]\n",
    "\n",
    "X = y_prob[:R]\n",
    "y = y_true[:R]\n",
    "\n",
    "from sklearn.isotonic import IsotonicRegression\n",
    "from sklearn.calibration import _SigmoidCalibration\n",
    "from sklearn.linear_model import LogisticRegression\n",
    "clr = _SigmoidCalibration().fit(X, y)\n",
    "# clr = LogisticRegression().fit(X.reshape(-1, 1), y)\n",
    "\n",
    "df_raw2['prob_calib'] = clr.predict(df_raw2['prob'].values.reshape(-1, 1))\n",
    "\n",
    "plot_calib(df_raw2)"
   ]
  },
  {
   "cell_type": "code",
   "execution_count": null,
   "metadata": {},
   "outputs": [],
   "source": [
    "# import numpy as np\n",
    "# import matplotlib.pyplot as plt\n",
    "# from sklearn.calibration import calibration_curve\n",
    "# from sklearn.isotonic import IsotonicRegression\n",
    "\n",
    "# # Generate sample data\n",
    "# np.random.seed(42)\n",
    "# n_samples = 1000\n",
    "\n",
    "# # Generate probabilities between 0 and 1\n",
    "# # Using beta distribution to simulate a more realistic probability distribution\n",
    "# probabilities = np.random.beta(2, 5, n_samples)\n",
    "\n",
    "# # All labels are 1\n",
    "# labels = np.ones(n_samples)\n",
    "\n",
    "# # Function to plot reliability curve\n",
    "# def plot_reliability_curve(y_true, y_prob, n_bins=10, ax=None):\n",
    "#     if ax is None:\n",
    "#         fig, ax = plt.subplots()\n",
    "    \n",
    "#     fraction_of_positives, mean_predicted_value = calibration_curve(y_true, y_prob, n_bins=n_bins)\n",
    "    \n",
    "#     ax.plot(mean_predicted_value, fraction_of_positives, \"s-\", label=\"Uncalibrated\")\n",
    "#     ax.plot([0, 1], [0, 1], \"k:\", label=\"Perfectly calibrated\")\n",
    "    \n",
    "#     ax.set_xlabel(\"Mean predicted probability\")\n",
    "#     ax.set_ylabel(\"Fraction of positives\")\n",
    "#     ax.set_title(\"Reliability Curve\")\n",
    "#     ax.legend(loc=\"lower right\")\n",
    "#     return ax\n",
    "\n",
    "# # Plot original reliability curve\n",
    "# fig, (ax1, ax2) = plt.subplots(1, 2, figsize=(15, 5))\n",
    "# plot_reliability_curve(labels, probabilities, ax=ax1)\n",
    "# ax1.set_title(\"Original Reliability Curve\")\n",
    "\n",
    "# # Apply isotonic regression for calibration\n",
    "# ir = IsotonicRegression(out_of_bounds=\"clip\")\n",
    "# calibrated_probs = ir.fit_transform(probabilities, labels)\n",
    "\n",
    "# # Plot calibrated reliability curve\n",
    "# plot_reliability_curve(labels, calibrated_probs, ax=ax2)\n",
    "# ax2.set_title(\"Calibrated Reliability Curve\")\n",
    "\n",
    "# plt.tight_layout()\n",
    "# plt.show()\n",
    "\n",
    "# # Print some sample probabilities\n",
    "# print(\"Sample original probabilities:\")\n",
    "# print(probabilities[:10])\n",
    "# print(\"\\nSample calibrated probabilities:\")\n",
    "# print(calibrated_probs[:10])\n",
    "\n",
    "# # Calculate mean probabilities\n",
    "# print(f\"\\nMean original probability: {np.mean(probabilities):.3f}\")\n",
    "# print(f\"Mean calibrated probability: {np.mean(calibrated_probs):.3f}\")"
   ]
  },
  {
   "cell_type": "code",
   "execution_count": null,
   "metadata": {},
   "outputs": [],
   "source": []
  }
 ],
 "metadata": {
  "kernelspec": {
   "display_name": ".venv",
   "language": "python",
   "name": "python3"
  },
  "language_info": {
   "codemirror_mode": {
    "name": "ipython",
    "version": 3
   },
   "file_extension": ".py",
   "mimetype": "text/x-python",
   "name": "python",
   "nbconvert_exporter": "python",
   "pygments_lexer": "ipython3",
   "version": "3.11.0rc1"
  }
 },
 "nbformat": 4,
 "nbformat_minor": 2
}
