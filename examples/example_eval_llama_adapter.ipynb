{
 "cells": [
  {
   "cell_type": "markdown",
   "metadata": {},
   "source": [
    "# OpenPrefEval: Dead Simple Open LLM Evaluation"
   ]
  },
  {
   "cell_type": "code",
   "execution_count": 1,
   "metadata": {},
   "outputs": [],
   "source": [
    "%reload_ext autoreload\n",
    "%autoreload 2"
   ]
  },
  {
   "cell_type": "markdown",
   "metadata": {},
   "source": []
  },
  {
   "cell_type": "code",
   "execution_count": 2,
   "metadata": {},
   "outputs": [],
   "source": [
    "!pip install peft bitsandbytes -q\n",
    "from transformers import AutoTokenizer, AutoModelForCausalLM, AutoConfig\n",
    "from open_pref_eval.datasets import get_default_datasets\n",
    "from open_pref_eval.evaluation import evaluate_models, evaluate_model, evaluate"
   ]
  },
  {
   "cell_type": "code",
   "execution_count": 3,
   "metadata": {},
   "outputs": [
    {
     "data": {
      "text/plain": [
       "[Dataset({\n",
       "     features: ['prompt', 'chosen', 'rejected', 'id'],\n",
       "     num_rows: 100\n",
       " }),\n",
       " Dataset({\n",
       "     features: ['prompt', 'chosen', 'rejected'],\n",
       "     num_rows: 100\n",
       " }),\n",
       " Dataset({\n",
       "     features: ['prompt', 'chosen', 'rejected'],\n",
       "     num_rows: 100\n",
       " }),\n",
       " Dataset({\n",
       "     features: ['prompt', 'chosen', 'rejected'],\n",
       "     num_rows: 100\n",
       " }),\n",
       " Dataset({\n",
       "     features: ['prompt', 'chosen', 'rejected'],\n",
       "     num_rows: 100\n",
       " }),\n",
       " Dataset({\n",
       "     features: ['prompt', 'chosen', 'rejected'],\n",
       "     num_rows: 100\n",
       " }),\n",
       " Dataset({\n",
       "     features: ['prompt', 'chosen', 'rejected'],\n",
       "     num_rows: 100\n",
       " }),\n",
       " Dataset({\n",
       "     features: ['prompt', 'chosen', 'rejected'],\n",
       "     num_rows: 100\n",
       " })]"
      ]
     },
     "execution_count": 3,
     "metadata": {},
     "output_type": "execute_result"
    }
   ],
   "source": [
    "datasets = get_default_datasets(100)\n",
    "datasets"
   ]
  },
  {
   "cell_type": "code",
   "execution_count": null,
   "metadata": {},
   "outputs": [],
   "source": []
  },
  {
   "cell_type": "code",
   "execution_count": 4,
   "metadata": {},
   "outputs": [
    {
     "name": "stderr",
     "output_type": "stream",
     "text": [
      "Unused kwargs: ['_load_in_4bit', '_load_in_8bit', 'quant_method']. These kwargs are not used in <class 'transformers.utils.quantization_config.BitsAndBytesConfig'>.\n",
      "`low_cpu_mem_usage` was None, now set to True since model is quantized.\n"
     ]
    }
   ],
   "source": [
    "# gepardzik/LLama-3-8b-rogue-lora\n",
    "# EleutherAI/Llama-2-7b-hf-subtraction_increment0\n",
    "# EleutherAI/Llama-2-7b-hf-sciq\n",
    "# EleutherAI/Llama-2-7b-hf-capitals\n",
    "# EleutherAI/Llama-2-7b-hf-authors\n",
    "from peft import AutoPeftModelForCausalLM, get_peft_model, PeftConfig, PeftModelForCausalLM\n",
    "model_name = \"gepardzik/LLama-3-8b-rogue-lora\"\n",
    "peft_config = PeftConfig.from_pretrained(model_name)\n",
    "base_model = AutoModelForCausalLM.from_pretrained(peft_config.base_model_name_or_path)\n",
    "model = PeftModelForCausalLM.from_pretrained(\n",
    "    base_model,\n",
    "    model_name, config=peft_config)\n",
    "tokenizer = AutoTokenizer.from_pretrained(model_name)\n",
    "# model"
   ]
  },
  {
   "cell_type": "code",
   "execution_count": 6,
   "metadata": {},
   "outputs": [
    {
     "name": "stdout",
     "output_type": "stream",
     "text": [
      "FIXME eval_datasets\n"
     ]
    },
    {
     "data": {
      "application/vnd.jupyter.widget-view+json": {
       "model_id": "efd58fc255704940a12a10ad9b674152",
       "version_major": 2,
       "version_minor": 0
      },
      "text/plain": [
       "  0%|          | 0/8 [00:00<?, ?dataset/s]"
      ]
     },
     "metadata": {},
     "output_type": "display_data"
    },
    {
     "name": "stdout",
     "output_type": "stream",
     "text": [
      "FIXME eval_ds before Dataset({\n",
      "    features: ['prompt', 'chosen', 'rejected', 'id'],\n",
      "    num_rows: 100\n",
      "})\n",
      "fixme b4a tokenize\n",
      "fixme b4b tokenize\n",
      "fixme b4 dl\n",
      "fixme after tokenize\n"
     ]
    },
    {
     "name": "stderr",
     "output_type": "stream",
     "text": [
      "Starting from v4.46, the `logits` model output will have the same type as the model (except at train time, where it will always be FP32)\n"
     ]
    },
    {
     "name": "stdout",
     "output_type": "stream",
     "text": [
      "FIXME eval_ds after Dataset({\n",
      "    features: ['prompt', 'chosen', 'rejected', 'id'],\n",
      "    num_rows: 100\n",
      "})\n",
      "FIXME eval_ds before Dataset({\n",
      "    features: ['prompt', 'chosen', 'rejected'],\n",
      "    num_rows: 100\n",
      "})\n",
      "fixme b4a tokenize\n",
      "fixme b4b tokenize\n",
      "fixme b4 dl\n",
      "fixme after tokenize\n",
      "FIXME eval_ds after Dataset({\n",
      "    features: ['prompt', 'chosen', 'rejected'],\n",
      "    num_rows: 100\n",
      "})\n",
      "FIXME eval_ds before Dataset({\n",
      "    features: ['prompt', 'chosen', 'rejected'],\n",
      "    num_rows: 100\n",
      "})\n",
      "fixme b4a tokenize\n",
      "fixme b4b tokenize\n",
      "fixme b4 dl\n",
      "fixme after tokenize\n",
      "FIXME eval_ds after Dataset({\n",
      "    features: ['prompt', 'chosen', 'rejected'],\n",
      "    num_rows: 100\n",
      "})\n",
      "FIXME eval_ds before Dataset({\n",
      "    features: ['prompt', 'chosen', 'rejected'],\n",
      "    num_rows: 100\n",
      "})\n",
      "fixme b4a tokenize\n",
      "fixme b4b tokenize\n",
      "fixme b4 dl\n",
      "fixme after tokenize\n",
      "FIXME eval_ds after Dataset({\n",
      "    features: ['prompt', 'chosen', 'rejected'],\n",
      "    num_rows: 100\n",
      "})\n",
      "FIXME eval_ds before Dataset({\n",
      "    features: ['prompt', 'chosen', 'rejected'],\n",
      "    num_rows: 100\n",
      "})\n",
      "fixme b4a tokenize\n",
      "fixme b4b tokenize\n",
      "fixme b4 dl\n",
      "fixme after tokenize\n",
      "FIXME eval_ds after Dataset({\n",
      "    features: ['prompt', 'chosen', 'rejected'],\n",
      "    num_rows: 100\n",
      "})\n",
      "FIXME eval_ds before Dataset({\n",
      "    features: ['prompt', 'chosen', 'rejected'],\n",
      "    num_rows: 100\n",
      "})\n",
      "fixme b4a tokenize\n",
      "fixme b4b tokenize\n",
      "fixme b4 dl\n",
      "fixme after tokenize\n",
      "FIXME eval_ds after Dataset({\n",
      "    features: ['prompt', 'chosen', 'rejected'],\n",
      "    num_rows: 100\n",
      "})\n",
      "FIXME eval_ds before Dataset({\n",
      "    features: ['prompt', 'chosen', 'rejected'],\n",
      "    num_rows: 100\n",
      "})\n",
      "fixme b4a tokenize\n",
      "fixme b4b tokenize\n",
      "fixme b4 dl\n",
      "fixme after tokenize\n",
      "FIXME eval_ds after Dataset({\n",
      "    features: ['prompt', 'chosen', 'rejected'],\n",
      "    num_rows: 100\n",
      "})\n",
      "FIXME eval_ds before Dataset({\n",
      "    features: ['prompt', 'chosen', 'rejected'],\n",
      "    num_rows: 100\n",
      "})\n",
      "fixme b4a tokenize\n",
      "fixme b4b tokenize\n",
      "fixme b4 dl\n",
      "fixme after tokenize\n",
      "FIXME eval_ds after Dataset({\n",
      "    features: ['prompt', 'chosen', 'rejected'],\n",
      "    num_rows: 100\n",
      "})\n"
     ]
    }
   ],
   "source": [
    "results, df_raw = evaluate_model(\n",
    "    model=model,\n",
    "    tokenizer=tokenizer,\n",
    "    datasets=datasets,\n",
    "    per_device_eval_batch_size=4,\n",
    "\n",
    "    # from transformers.TrainingArguments\n",
    "    bf16=True,\n",
    "    bf16_full_eval=True\n",
    ")\n",
    "# results"
   ]
  },
  {
   "cell_type": "code",
   "execution_count": null,
   "metadata": {},
   "outputs": [],
   "source": [
    "df_agg =  df_raw.groupby(['dataset', 'adapter'], dropna=False)['prob'].mean().unstack()\n",
    "df_agg"
   ]
  },
  {
   "cell_type": "code",
   "execution_count": null,
   "metadata": {},
   "outputs": [],
   "source": [
    "from open_pref_eval.plot.radar import radar_plot\n",
    "radar_plot(df_agg)"
   ]
  },
  {
   "cell_type": "code",
   "execution_count": null,
   "metadata": {},
   "outputs": [],
   "source": []
  }
 ],
 "metadata": {
  "kernelspec": {
   "display_name": ".venv",
   "language": "python",
   "name": "python3"
  },
  "language_info": {
   "codemirror_mode": {
    "name": "ipython",
    "version": 3
   },
   "file_extension": ".py",
   "mimetype": "text/x-python",
   "name": "python",
   "nbconvert_exporter": "python",
   "pygments_lexer": "ipython3",
   "version": "3.11.10"
  }
 },
 "nbformat": 4,
 "nbformat_minor": 2
}
