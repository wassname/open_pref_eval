{
 "cells": [
  {
   "cell_type": "code",
   "execution_count": 1,
   "id": "3c751e5a",
   "metadata": {},
   "outputs": [],
   "source": [
    "%reload_ext autoreload\n",
    "%autoreload 2"
   ]
  },
  {
   "cell_type": "code",
   "execution_count": 2,
   "id": "610466d4",
   "metadata": {},
   "outputs": [
    {
     "data": {
      "text/plain": [
       "{'prompt': [{'content': '治疗阳痿吃什么药呢？，性生活一直很正常的，但是这段时间感觉性欲变低了，有时勃起都感觉很困难，试过许多的方法都没效果，听朋友说我这种情况可能会是早泄，想知道治疗早泄的药物？',\n",
       "   'role': 'user'}],\n",
       " 'chosen': [{'content': '男子早泄、早泄病症的再次发生，多由恣情纵欲，或青年误犯性交，至命门火衰，精气虚寒；或思量忧郁，伤损心脾；或因恐惧伤肾，也有因湿热下注，宗筋弛而痿的。但主要是肾阳虚衰而痿。肾阳为那身阳气之根本，有温煦形体，蒸化水液，增进围产生长发育等功能。肾阳虚衰则温煦失责，气化无权。因而再次发生畏寒肢冷，性机能减退。故见男子早泄不举或不坚，且伴发头晕目眩。',\n",
       "   'role': 'assistant'}],\n",
       " 'rejected': [{'content': '对于阳痿患者来说，可以使用一些口服类固醇激素或者非甾体抗炎药。',\n",
       "   'role': 'assistant'}]}"
      ]
     },
     "execution_count": 2,
     "metadata": {},
     "output_type": "execute_result"
    }
   ],
   "source": [
    "import pandas as pd\n",
    "import numpy as np\n",
    "from datasets import load_dataset\n",
    "import datasets\n",
    "\n",
    "dataset = load_dataset('Morefreedai/medical-dpo-V2')\n",
    "dataset['data'][0]"
   ]
  },
  {
   "cell_type": "code",
   "execution_count": 3,
   "id": "61237204",
   "metadata": {},
   "outputs": [],
   "source": [
    "def collapse(row):\n",
    "    def collape_test(field):\n",
    "        return field[0][\"content\"]\n",
    "    row['prompt'] = collape_test(row['prompt'])\n",
    "    row['chosen'] = collape_test(row['chosen'])\n",
    "    row['rejected'] = collape_test(row['rejected'])\n",
    "    return row\n",
    "\n",
    "dataset2 = dataset.map(collapse)"
   ]
  },
  {
   "cell_type": "code",
   "execution_count": 5,
   "id": "8d691701",
   "metadata": {},
   "outputs": [
    {
     "data": {
      "application/vnd.jupyter.widget-view+json": {
       "model_id": "c11101a576764217944aa0712a526123",
       "version_major": 2,
       "version_minor": 0
      },
      "text/plain": [
       "Uploading the dataset shards:   0%|          | 0/1 [00:00<?, ?it/s]"
      ]
     },
     "metadata": {},
     "output_type": "display_data"
    },
    {
     "data": {
      "application/vnd.jupyter.widget-view+json": {
       "model_id": "6118b8661fb64961bdbfdd7db2d88daf",
       "version_major": 2,
       "version_minor": 0
      },
      "text/plain": [
       "Creating parquet from Arrow format:   0%|          | 0/4 [00:00<?, ?ba/s]"
      ]
     },
     "metadata": {},
     "output_type": "display_data"
    },
    {
     "data": {
      "text/plain": [
       "CommitInfo(commit_url='https://huggingface.co/datasets/wassname/medical-dpo-V2/commit/b506a58796e707d7fdbad477320f310d4174486a', commit_message='Upload dataset', commit_description='', oid='b506a58796e707d7fdbad477320f310d4174486a', pr_url=None, repo_url=RepoUrl('https://huggingface.co/datasets/wassname/medical-dpo-V2', endpoint='https://huggingface.co', repo_type='dataset', repo_id='wassname/medical-dpo-V2'), pr_revision=None, pr_num=None)"
      ]
     },
     "execution_count": 5,
     "metadata": {},
     "output_type": "execute_result"
    }
   ],
   "source": [
    "dataset2.push_to_hub('medical-dpo-V2', config_name=\"test\")"
   ]
  }
 ],
 "metadata": {
  "kernelspec": {
   "display_name": ".venv",
   "language": "python",
   "name": "python3"
  },
  "language_info": {
   "codemirror_mode": {
    "name": "ipython",
    "version": 3
   },
   "file_extension": ".py",
   "mimetype": "text/x-python",
   "name": "python",
   "nbconvert_exporter": "python",
   "pygments_lexer": "ipython3",
   "version": "3.11.0"
  }
 },
 "nbformat": 4,
 "nbformat_minor": 5
}
